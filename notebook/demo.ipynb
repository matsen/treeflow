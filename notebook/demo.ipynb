{
 "cells": [
  {
   "cell_type": "code",
   "execution_count": 1,
   "metadata": {},
   "outputs": [
    {
     "data": {
      "text/plain": [
       "(100,\n",
       " dict_keys(['postorder_node_indices', 'child_indices', 'preorder_indices', 'preorder_node_indices', 'sibling_indices', 'parent_indices']))"
      ]
     },
     "execution_count": 1,
     "metadata": {},
     "output_type": "execute_result"
    }
   ],
   "source": [
    "import treeflow.tree_processing\n",
    "from importlib import reload\n",
    "reload(treeflow.tree_processing)\n",
    "\n",
    "import treeflow.sequences\n",
    "newick_file = '../data/analysis-tree.nwk'\n",
    "fasta_file = '../data/sim-seq.fasta'\n",
    "\n",
    "tree, taxon_names = treeflow.tree_processing.parse_newick(newick_file)\n",
    "topology = treeflow.tree_processing.update_topology_dict(tree['topology'])\n",
    "taxon_count = len(taxon_names)\n",
    "taxon_count, topology.keys()"
   ]
  },
  {
   "cell_type": "markdown",
   "metadata": {},
   "source": [
    "# Variational approximation"
   ]
  },
  {
   "cell_type": "code",
   "execution_count": 47,
   "metadata": {},
   "outputs": [
    {
     "data": {
      "text/plain": [
       "[('q_tree_loc:0', TensorShape([99])),\n",
       " ('q_tree_scale:0', TensorShape([99])),\n",
       " ('q_site_alpha_loc:0', TensorShape([])),\n",
       " ('q_site_alpha_scale:0', TensorShape([])),\n",
       " ('q_pop_size_loc:0', TensorShape([])),\n",
       " ('q_pop_size_scale:0', TensorShape([])),\n",
       " ('q_kappa_loc:0', TensorShape([])),\n",
       " ('q_kappa_scale:0', TensorShape([])),\n",
       " ('q_frequencies_concentration:0', TensorShape([4])),\n",
       " ('q_clock_rate_loc:0', TensorShape([])),\n",
       " ('q_clock_rate_scale:0', TensorShape([]))]"
      ]
     },
     "execution_count": 47,
     "metadata": {},
     "output_type": "execute_result"
    }
   ],
   "source": [
    "import treeflow.tree_transform\n",
    "import tensorflow as tf\n",
    "import tensorflow_probability as tfp\n",
    "tfd = tfp.distributions\n",
    "\n",
    "from importlib import reload\n",
    "reload(treeflow.tree_transform)\n",
    "\n",
    "anchor_heights = treeflow.tree_processing.get_node_anchor_heights(tree['heights'], topology['postorder_node_indices'], topology['child_indices'])\n",
    "anchor_heights = tf.convert_to_tensor(anchor_heights, dtype=tf.float32)\n",
    "tree_chain = treeflow.tree_transform.TreeChain(\n",
    "    tf.convert_to_tensor(topology['parent_indices'][taxon_count:] - taxon_count),\n",
    "    tf.convert_to_tensor(topology['preorder_node_indices'][1:] - taxon_count),\n",
    "    anchor_heights=anchor_heights)\n",
    "init_heights = tf.convert_to_tensor(tree['heights'][taxon_count:], dtype=tf.float32)\n",
    "init_heights_trans = tree_chain.inverse(init_heights)\n",
    "\n",
    "q = tfd.JointDistributionNamed(dict(\n",
    "    tree=treeflow.tree_transform.FixedTopologyDistribution(\n",
    "        height_distribution=tfd.TransformedDistribution(\n",
    "            distribution=tfd.Independent(tfd.Normal(\n",
    "                loc=tf.Variable(init_heights_trans, name='q_tree_loc'),\n",
    "                scale=tfp.util.DeferredTensor(tf.Variable(tf.ones_like(init_heights_trans), name='q_tree_scale'), tf.nn.softplus)\n",
    "            ), reinterpreted_batch_ndims=1),\n",
    "            bijector=tree_chain),\n",
    "        topology=tree['topology']\n",
    "    ),\n",
    "    kappa=tfd.LogNormal(\n",
    "        loc=tf.Variable(0.0, name='q_kappa_loc'),\n",
    "        scale=tfp.util.DeferredTensor(tf.Variable(1.0, name='q_kappa_scale'), tf.nn.softplus)\n",
    "    ),\n",
    "    pop_size=tfd.LogNormal(\n",
    "        loc=tf.Variable(0.0, name='q_pop_size_loc'),\n",
    "        scale=tfp.util.DeferredTensor(tf.Variable(1.0, name='q_pop_size_scale'), tf.nn.softplus)\n",
    "    ),\n",
    "    frequencies=tfd.Dirichlet(concentration=tfp.util.DeferredTensor(tf.Variable([4.0, 4.0, 4.0, 4.0], name='q_frequencies_concentration'), tf.nn.softplus)),\n",
    "    site_alpha=tfd.LogNormal(\n",
    "        loc=tf.Variable(0.0, name='q_site_alpha_loc'),\n",
    "        scale=tfp.util.DeferredTensor(tf.Variable(1.0, name='q_site_alpha_scale'), tf.nn.softplus)\n",
    "    ),\n",
    "    clock_rate=tfd.LogNormal(\n",
    "        loc=tf.Variable(0.0, name='q_clock_rate_loc'),\n",
    "        scale=tfp.util.DeferredTensor(tf.Variable(1.0, name='q_clock_rate_scale'), tf.nn.softplus)\n",
    "    )\n",
    "))\n",
    "[(var.name, var.shape) for var in q.trainable_variables]"
   ]
  },
  {
   "cell_type": "markdown",
   "metadata": {},
   "source": [
    "# Model\n",
    "## Prior"
   ]
  },
  {
   "cell_type": "code",
   "execution_count": 50,
   "metadata": {},
   "outputs": [
    {
     "data": {
      "text/plain": [
       "<tf.Tensor: id=90490, shape=(), dtype=float32, numpy=48.715714>"
      ]
     },
     "execution_count": 50,
     "metadata": {},
     "output_type": "execute_result"
    }
   ],
   "source": [
    "import treeflow.coalescent\n",
    "from importlib import reload\n",
    "reload(treeflow.coalescent)\n",
    "\n",
    "sampling_times = tf.convert_to_tensor(tree['heights'][:taxon_count], dtype=tf.float32)\n",
    "\n",
    "prior = tfd.JointDistributionNamed(dict(\n",
    "    frequencies=tfd.Dirichlet(concentration=[4,4,4,4]),\n",
    "    kappa=tfd.LogNormal(loc=0, scale=1),\n",
    "    pop_size=tfd.LogNormal(loc=0, scale=1),\n",
    "    site_alpha=tfd.LogNormal(loc=0, scale=1),\n",
    "    clock_rate=tfd.LogNormal(loc=0, scale=1),\n",
    "    tree=lambda pop_size: treeflow.coalescent.ConstantCoalescent(pop_size=pop_size, sampling_times=sampling_times)\n",
    "))\n",
    "\n",
    "prior.log_prob(**q.sample())"
   ]
  },
  {
   "cell_type": "code",
   "execution_count": 51,
   "metadata": {},
   "outputs": [
    {
     "data": {
      "text/plain": [
       "[<tf.Tensor: id=99185, shape=(3, 99), dtype=float32, numpy=\n",
       " array([[ 3.3782930e+00,  3.4117954e+00,  3.4442155e+00, -6.2570626e-01,\n",
       "          8.1092781e-01,  1.5589943e+00,  3.5093479e+00,  8.8555747e-01,\n",
       "          7.6570195e-01, -2.4412508e-01, -4.3821758e-01,  1.6858009e+00,\n",
       "         -1.3917049e+00, -5.8846277e-01,  2.0737803e+00,  2.1140511e+00,\n",
       "         -1.2818749e-01, -1.1141236e+00, -7.7625531e-01, -5.1379293e-01,\n",
       "         -2.3565246e-01,  4.4677782e+00, -2.5858173e+00, -6.8568960e-02,\n",
       "          3.0321419e+00, -9.1351002e-01, -7.1541443e-02, -1.5786476e+00,\n",
       "         -6.8509263e-01, -6.9343168e-01, -5.2141678e-01, -5.8647221e-01,\n",
       "         -1.0002382e-03, -4.3526316e+00,  1.5744197e+00,  5.2446499e+00,\n",
       "          5.2499094e+00,  2.1429598e+00, -1.5861918e-01,  4.1033179e-01,\n",
       "         -3.0476968e+00,  2.5808351e+00, -6.8954363e-02,  3.6514730e+00,\n",
       "          3.6770725e+00,  2.3879592e-01, -6.9414717e-01,  3.6867785e-01,\n",
       "         -4.0400076e+00,  1.3662626e+00,  1.5545955e+00, -1.3380455e+00,\n",
       "          3.3298422e-02,  1.3584611e+00, -9.5333725e-01,  1.3941215e-02,\n",
       "         -1.0000000e-03, -1.0000000e-03,  2.8514395e+00, -1.8373060e+00,\n",
       "          4.8917508e+00, -6.9414705e-01, -1.4828056e+00,  4.8992233e+00,\n",
       "          4.9066529e+00,  9.4258147e-01,  1.8381773e+00,  1.1988191e-01,\n",
       "          4.0282589e-01, -3.3149606e-01,  1.5907172e+00,  5.7628000e-01,\n",
       "          3.2256992e+00,  2.2055020e+00, -1.0002383e-03,  6.9214720e-01,\n",
       "         -2.4919991e+00,  4.7422582e-01,  7.2269565e-01, -1.7572818e+00,\n",
       "          1.4166540e+00, -4.1004515e-01,  1.7649009e+00,  9.9912864e-01,\n",
       "         -2.2541196e+00, -3.9766919e-02,  2.7740860e+00,  2.8345635e+00,\n",
       "          2.8915918e+00,  5.9226382e-01, -4.1544592e-01, -1.1509736e-01,\n",
       "          3.4451692e+00,  3.4765427e+00, -1.3149364e+00,  1.1848196e+00,\n",
       "         -5.8698648e-01,  1.0666035e+00, -2.5826919e-01],\n",
       "        [ 3.3775225e+00,  3.4109817e+00,  3.4435003e+00, -6.2637007e-01,\n",
       "          8.1024683e-01,  1.5583944e+00,  3.5083530e+00,  8.8490975e-01,\n",
       "          7.6521415e-01, -2.4479935e-01, -4.3886799e-01,  1.6850600e+00,\n",
       "         -1.3923595e+00, -5.8913773e-01,  2.0731039e+00,  2.1133537e+00,\n",
       "         -1.2886751e-01, -1.1147938e+00, -7.7692211e-01, -5.1445287e-01,\n",
       "         -2.3630843e-01,  4.4668055e+00, -2.5863192e+00, -6.9299743e-02,\n",
       "          3.0313768e+00, -9.1418087e-01, -7.2215959e-02, -1.5793090e+00,\n",
       "         -6.8574661e-01, -6.9387901e-01, -5.2199221e-01, -5.8710796e-01,\n",
       "         -1.9028713e-03, -4.3521743e+00,  1.5737493e+00,  5.2436686e+00,\n",
       "          5.2490692e+00,  2.1422923e+00, -1.5925241e-01,  4.0967631e-01,\n",
       "         -3.0471299e+00,  2.5798388e+00, -6.9793716e-02,  3.6505287e+00,\n",
       "          3.6762333e+00,  2.3806627e-01, -6.9482583e-01,  3.6790046e-01,\n",
       "         -4.0403657e+00,  1.3654505e+00,  1.5538957e+00, -1.3386905e+00,\n",
       "          3.2589886e-02,  1.3575792e+00, -9.5408404e-01,  1.3263847e-02,\n",
       "         -1.7314032e-03, -1.6553272e-03,  2.8504410e+00, -1.8377903e+00,\n",
       "          4.8910208e+00, -6.9502139e-01, -1.4835486e+00,  4.8985286e+00,\n",
       "          4.9057589e+00,  9.4190556e-01,  1.8374953e+00,  1.1924244e-01,\n",
       "          4.0212584e-01, -3.3214593e-01,  1.5900868e+00,  5.7562274e-01,\n",
       "          3.2250018e+00,  2.2048283e+00, -1.3193534e-03,  6.9157284e-01,\n",
       "         -2.4924147e+00,  4.7348529e-01,  7.2202897e-01, -1.7579392e+00,\n",
       "          1.4159604e+00, -4.1073650e-01,  1.7641686e+00,  9.9826390e-01,\n",
       "         -2.2546554e+00, -4.0495671e-02,  2.7732654e+00,  2.8336723e+00,\n",
       "          2.8907585e+00,  5.9157217e-01, -4.1609597e-01, -1.1576560e-01,\n",
       "          3.4442749e+00,  3.4755616e+00, -1.3155504e+00,  1.1841428e+00,\n",
       "         -5.8765018e-01,  1.0659319e+00, -2.5893721e-01],\n",
       "        [ 3.3768401e+00,  3.4102519e+00,  3.4429073e+00, -6.2687379e-01,\n",
       "          8.0979609e-01,  1.5579547e+00,  3.5073607e+00,  8.8446820e-01,\n",
       "          7.6490545e-01, -2.4531281e-01, -4.3933338e-01,  1.6844492e+00,\n",
       "         -1.3928444e+00, -5.8965218e-01,  2.0725751e+00,  2.1127570e+00,\n",
       "         -1.2939639e-01, -1.1152904e+00, -7.7738941e-01, -5.1495743e-01,\n",
       "         -2.3684520e-01,  4.4658594e+00, -2.5865381e+00, -6.9843173e-02,\n",
       "          3.0307467e+00, -9.1465932e-01, -7.2734945e-02, -1.5798086e+00,\n",
       "         -6.8623245e-01, -6.9420117e-01, -5.2241343e-01, -5.8754373e-01,\n",
       "         -2.8485898e-03, -4.3514447e+00,  1.5732256e+00,  5.2426877e+00,\n",
       "          5.2483516e+00,  2.1417897e+00, -1.5960170e-01,  4.0920034e-01,\n",
       "         -3.0463662e+00,  2.5788500e+00, -7.0188515e-02,  3.6495960e+00,\n",
       "          3.6754794e+00,  2.3767245e-01, -6.9540596e-01,  3.6731935e-01,\n",
       "         -4.0401683e+00,  1.3648276e+00,  1.5533826e+00, -1.3391197e+00,\n",
       "          3.2166705e-02,  1.3568420e+00, -9.5449001e-01,  1.2803313e-02,\n",
       "         -2.1891978e-03, -2.0870466e-03,  2.8494709e+00, -1.8379683e+00,\n",
       "          4.8904076e+00, -6.9553655e-01, -1.4839746e+00,  4.8979702e+00,\n",
       "          4.9048967e+00,  9.4138145e-01,  1.8369665e+00,  1.1874919e-01,\n",
       "          4.0158612e-01, -3.3265653e-01,  1.5897737e+00,  5.7546222e-01,\n",
       "          3.2244859e+00,  2.2043221e+00, -1.6065398e-03,  6.9105196e-01,\n",
       "         -2.4925385e+00,  4.7298858e-01,  7.2155571e-01, -1.7584004e+00,\n",
       "          1.4154418e+00, -4.1126406e-01,  1.7642750e+00,  9.9740350e-01,\n",
       "         -2.2549384e+00, -4.1050889e-02,  2.7724943e+00,  2.8328004e+00,\n",
       "          2.8899179e+00,  5.9104401e-01, -4.1657409e-01, -1.1616860e-01,\n",
       "          3.4434118e+00,  3.4745817e+00, -1.3158988e+00,  1.1836157e+00,\n",
       "         -5.8813781e-01,  1.0654180e+00, -2.5943097e-01]], dtype=float32)>,\n",
       " <tf.Tensor: id=99186, shape=(3, 99), dtype=float32, numpy=\n",
       " array([[1.001     , 1.001     , 1.001     , 1.001     , 0.999     ,\n",
       "         0.999     , 1.001     , 1.001     , 0.999     , 1.001     ,\n",
       "         0.999     , 1.001     , 0.999     , 1.001     , 1.001     ,\n",
       "         1.001     , 0.999     , 0.999     , 0.999     , 0.999     ,\n",
       "         1.001     , 1.001     , 1.001     , 0.999     , 1.001     ,\n",
       "         1.001     , 1.001     , 0.999     , 0.999     , 1.001     ,\n",
       "         1.001     , 0.999     , 1.001     , 1.001     , 1.001     ,\n",
       "         0.999     , 1.001     , 1.001     , 0.999     , 0.999     ,\n",
       "         1.001     , 1.001     , 1.001     , 1.001     , 1.001     ,\n",
       "         1.001     , 1.001     , 1.001     , 0.999     , 1.001     ,\n",
       "         1.001     , 0.999     , 0.999     , 0.999     , 0.999     ,\n",
       "         1.001     , 1.001     , 0.999     , 0.999     , 1.001     ,\n",
       "         1.001     , 0.999     , 1.001     , 1.001     , 1.001     ,\n",
       "         1.001     , 1.001     , 1.001     , 0.999     , 0.999     ,\n",
       "         0.999     , 0.999     , 1.001     , 1.001     , 1.001     ,\n",
       "         1.001     , 0.999     , 0.999     , 1.001     , 0.999     ,\n",
       "         0.999     , 0.999     , 0.999     , 1.001     , 1.001     ,\n",
       "         1.001     , 1.001     , 1.001     , 0.999     , 0.999     ,\n",
       "         1.001     , 0.999     , 1.001     , 0.999     , 0.999     ,\n",
       "         1.001     , 0.999     , 1.001     , 0.999     ],\n",
       "        [1.0016991 , 1.0015903 , 1.0017172 , 1.0016935 , 0.9983506 ,\n",
       "         0.9981793 , 1.0019996 , 1.0017067 , 0.99799985, 1.0016745 ,\n",
       "         0.9983164 , 1.0018524 , 0.998382  , 1.0016807 , 1.0017133 ,\n",
       "         1.0019178 , 0.9983424 , 0.9983393 , 0.99838   , 0.998338  ,\n",
       "         1.0017226 , 1.0018256 , 1.0019896 , 0.99823546, 1.0019772 ,\n",
       "         1.0018854 , 1.001664  , 0.9983612 , 0.9983693 , 1.0016832 ,\n",
       "         1.001573  , 0.9983344 , 1.0013614 , 1.001927  , 1.0016773 ,\n",
       "         0.99930054, 1.0019966 , 1.0016704 , 0.99832803, 0.9983121 ,\n",
       "         1.0018598 , 1.0009688 , 1.0019132 , 1.001772  , 1.0018004 ,\n",
       "         1.0019913 , 1.0019759 , 1.0018411 , 0.99915606, 1.0018636 ,\n",
       "         1.0016884 , 0.9991177 , 0.9983541 , 0.9979988 , 0.99838674,\n",
       "         1.0016668 , 1.0017424 , 0.99840325, 0.99835813, 1.0015496 ,\n",
       "         1.0016873 , 0.99869305, 1.0016855 , 1.0016791 , 1.0019863 ,\n",
       "         1.0016676 , 1.0016686 , 1.0016651 , 0.9983617 , 0.9983305 ,\n",
       "         0.99836826, 0.9983497 , 1.0018893 , 1.001672  , 1.0019379 ,\n",
       "         1.0019726 , 0.9994683 , 0.9985054 , 1.0016874 , 0.9983426 ,\n",
       "         0.9983461 , 0.9982682 , 0.9983462 , 1.0018183 , 1.0015436 ,\n",
       "         1.0016893 , 1.0018543 , 1.0019554 , 0.99920684, 0.99835825,\n",
       "         1.0016385 , 0.998348  , 1.0018779 , 0.9986841 , 0.998332  ,\n",
       "         1.0016483 , 0.998325  , 1.0016717 , 0.99832666],\n",
       "        [1.0022368 , 1.0022061 , 1.0023028 , 1.0022573 , 0.9975586 ,\n",
       "         0.9975728 , 1.0028783 , 1.002238  , 0.99728924, 1.0022061 ,\n",
       "         0.9977648 , 1.0027516 , 0.9979631 , 1.0022204 , 1.0022681 ,\n",
       "         1.0027989 , 0.9978758 , 0.99781036, 0.9979402 , 0.9978383 ,\n",
       "         1.0022798 , 1.0027264 , 1.0019842 , 0.9977144 , 1.0029559 ,\n",
       "         1.0025378 , 1.0021836 , 0.9978988 , 0.9979134 , 1.0024388 ,\n",
       "         1.0020543 , 0.99768037, 1.0013199 , 1.0027261 , 1.0022013 ,\n",
       "         0.9997236 , 1.0029874 , 1.0021805 , 0.9978102 , 0.9977891 ,\n",
       "         1.0027652 , 1.001353  , 1.0024915 , 1.0022463 , 1.0025212 ,\n",
       "         1.0021764 , 1.0029626 , 1.0026321 , 0.99946046, 1.0026848 ,\n",
       "         1.0022364 , 0.999616  , 0.99793094, 0.99750626, 0.99788475,\n",
       "         1.0021224 , 1.0023159 , 0.9979931 , 0.99849176, 1.0017631 ,\n",
       "         1.0022398 , 0.99888885, 1.0023129 , 1.0022029 , 1.0029199 ,\n",
       "         1.0021856 , 1.0021993 , 1.0022006 , 0.997916  , 0.9978073 ,\n",
       "         0.9978124 , 0.9978827 , 1.002623  , 1.0021846 , 1.0028957 ,\n",
       "         1.0029588 , 1.0001982 , 0.9979086 , 1.0021951 , 0.9977524 ,\n",
       "         0.9978664 , 0.99780697, 0.99756145, 1.0023551 , 1.0019504 ,\n",
       "         1.002252  , 1.002588  , 1.0019244 , 0.9996416 , 0.9980015 ,\n",
       "         1.0021557 , 0.99782866, 1.0028045 , 0.99829715, 0.9978179 ,\n",
       "         1.0021412 , 0.9976863 , 1.0022123 , 0.9977506 ]], dtype=float32)>,\n",
       " <tf.Tensor: id=99187, shape=(3,), dtype=float32, numpy=array([-0.001     , -0.00188843, -0.00237342], dtype=float32)>,\n",
       " <tf.Tensor: id=99188, shape=(3,), dtype=float32, numpy=array([1.001    , 1.0004618, 1.0002074], dtype=float32)>,\n",
       " <tf.Tensor: id=99189, shape=(3,), dtype=float32, numpy=array([0.001     , 0.00166822, 0.00216159], dtype=float32)>,\n",
       " <tf.Tensor: id=99190, shape=(3,), dtype=float32, numpy=array([0.999     , 0.99833083, 0.9977871 ], dtype=float32)>,\n",
       " <tf.Tensor: id=99191, shape=(3, 4), dtype=float32, numpy=\n",
       " array([[4.001    , 3.999    , 4.001    , 3.999    ],\n",
       "        [4.001579 , 3.999064 , 4.001793 , 3.998041 ],\n",
       "        [4.0019755, 3.9989707, 4.0021534, 3.9974606]], dtype=float32)>,\n",
       " <tf.Tensor: id=99192, shape=(3,), dtype=float32, numpy=array([-0.001     , -0.00189865, -0.0023993 ], dtype=float32)>,\n",
       " <tf.Tensor: id=99193, shape=(3,), dtype=float32, numpy=array([0.999    , 0.9988405, 0.999091 ], dtype=float32)>,\n",
       " <tf.Tensor: id=99194, shape=(3,), dtype=float32, numpy=array([-0.001     , -0.0012809 , -0.00116178], dtype=float32)>,\n",
       " <tf.Tensor: id=99195, shape=(3,), dtype=float32, numpy=array([0.999    , 0.9988693, 0.9989595], dtype=float32)>]"
      ]
     },
     "execution_count": 51,
     "metadata": {},
     "output_type": "execute_result"
    }
   ],
   "source": [
    "res = tfp.vi.fit_surrogate_posterior(prior.log_prob, q, tf.optimizers.Adam(), 3, trace_fn=lambda loss, grads, variables: variables)\n",
    "res"
   ]
  },
  {
   "cell_type": "markdown",
   "metadata": {},
   "source": [
    "## Likelihood"
   ]
  },
  {
   "cell_type": "code",
   "execution_count": 43,
   "metadata": {},
   "outputs": [],
   "source": [
    "reload(treeflow.sequences)\n",
    "sequences, pattern_counts = treeflow.sequences.get_encoded_sequences(fasta_file, taxon_names)\n",
    "category_count = 4\n",
    "log_prob_conditioned = treeflow.sequences.log_prob_conditioned(dict(sequences=sequences, weights=pattern_counts), tree['topology'], category_count)"
   ]
  },
  {
   "cell_type": "markdown",
   "metadata": {},
   "source": [
    "## Joint density function (conditioned)"
   ]
  }
 ],
 "metadata": {
  "kernelspec": {
   "display_name": "Python 3",
   "language": "python",
   "name": "python3"
  },
  "language_info": {
   "codemirror_mode": {
    "name": "ipython",
    "version": 3
   },
   "file_extension": ".py",
   "mimetype": "text/x-python",
   "name": "python",
   "nbconvert_exporter": "python",
   "pygments_lexer": "ipython3",
   "version": "3.7.3"
  }
 },
 "nbformat": 4,
 "nbformat_minor": 2
}
